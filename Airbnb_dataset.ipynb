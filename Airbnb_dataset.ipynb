{
  "nbformat": 4,
  "nbformat_minor": 0,
  "metadata": {
    "colab": {
      "provenance": [],
      "include_colab_link": true
    },
    "kernelspec": {
      "name": "python3",
      "display_name": "Python 3"
    },
    "language_info": {
      "name": "python"
    }
  },
  "cells": [
    {
      "cell_type": "markdown",
      "metadata": {
        "id": "view-in-github",
        "colab_type": "text"
      },
      "source": [
        "<a href=\"https://colab.research.google.com/github/jpkesh/event-driven-apis-call/blob/master/Airbnb_dataset.ipynb\" target=\"_parent\"><img src=\"https://colab.research.google.com/assets/colab-badge.svg\" alt=\"Open In Colab\"/></a>"
      ]
    },
    {
      "cell_type": "code",
      "execution_count": null,
      "metadata": {
        "id": "yo0hW3RY0ldI"
      },
      "outputs": [],
      "source": [
        "import pandas as pd\n",
        "\n",
        "listings = pd.read_csv(\"https://storage.googleapis.com/public-data-337819/listings%202%20reduced.csv\",low_memory=False)\n",
        "reviews = pd.read_csv(\"https://storage.googleapis.com/public-data-337819/reviews%202%20reduced.csv\",low_memory=False)"
      ]
    },
    {
      "cell_type": "code",
      "source": [
        "print(listings.head().to_markdown())\n",
        "print(reviews.head().to_markdown())"
      ],
      "metadata": {
        "colab": {
          "base_uri": "https://localhost:8080/"
        },
        "id": "I553tK0NAHtd",
        "outputId": "746ad28a-2658-4f6c-8624-bcc208b0d21a"
      },
      "execution_count": null,
      "outputs": [
        {
          "output_type": "stream",
          "name": "stdout",
          "text": [
            "|    |    id |   host_id | host_since   |   host_listings_count | host_identity_verified   |   calculated_host_listings_count | property_type               | room_type       | instant_bookable   |   minimum_nights |   maximum_nights |   number_of_reviews |   reviews_per_month | price   |   bedrooms |   beds | host_is_superhost   | neighbourhood_cleansed   |   review_scores_rating |   review_scores_accuracy |   review_scores_cleanliness |   review_scores_checkin |   review_scores_communication |   review_scores_location |   review_scores_value | description                                                                                                                                                                                                                                                                                                                                                                                                                                                                                                                                                                                                                                                                                                                                                                                                                                                                                                                                                                                                                              |\n",
            "|---:|------:|----------:|:-------------|----------------------:|:-------------------------|---------------------------------:|:----------------------------|:----------------|:-------------------|-----------------:|-----------------:|--------------------:|--------------------:|:--------|-----------:|-------:|:--------------------|:-------------------------|-----------------------:|-------------------------:|----------------------------:|------------------------:|------------------------------:|-------------------------:|----------------------:|:-----------------------------------------------------------------------------------------------------------------------------------------------------------------------------------------------------------------------------------------------------------------------------------------------------------------------------------------------------------------------------------------------------------------------------------------------------------------------------------------------------------------------------------------------------------------------------------------------------------------------------------------------------------------------------------------------------------------------------------------------------------------------------------------------------------------------------------------------------------------------------------------------------------------------------------------------------------------------------------------------------------------------------------------|\n",
            "|  0 | 92644 |    498201 | 2011-04-10   |                     1 | t                        |                                1 | Private room in rental unit | Private room    | t                  |                2 |              730 |                 216 |                1.45 | $42.00  |        nan |      2 | f                   | Wandsworth               |                   4.57 |                     4.74 |                        4.86 |                    4.71 |                          4.67 |                     4.53 |                  4.68 | <b>The space</b><br />Hi everyone! I have 2 rooms with twin beds for people who wish to travel to London England in my home for rent.I live in a quiet and leafy suburb in southwest london and I am only 12 minutes to waterloo station on the train,  there are also several great bus connections; 44 to victoria, 77 to waterloo and the 270 which goes to Chelsea.  Across the road from my house there is also a public tennis court which everyone is free to use and several playing fields, where any type of sport can be played.  There are several restaurants nearby serving a  variety of food, everything you could wish for,  plus there several bars and pubs  so you will never be stuck for any where to go out.   I am experienced at hosting and really enjoy meeting new people. I am Irish but have lived in London for 20 years now so if you are interested then drop me a line.                                                                                                                                |\n",
            "|  1 | 93015 |    499704 | 2011-04-11   |                     1 | t                        |                                1 | Entire rental unit          | Entire home/apt | f                  |                5 |              240 |                  38 |                0.27 | $175.00 |          2 |      3 | f                   | Hammersmith and Fulham   |                   4.82 |                     4.76 |                        4.62 |                    4.85 |                          4.88 |                     4.85 |                  4.74 | Gorgeous 2 bed ground floor apartment with period features and a real gas fire to keep you warm and cosy.  A great location in West London as a base to explore the city; quiet and residential after a long day out but very accessible from Heathrow and Gatwick and plenty of choices of tube or bus to get you quickly into the centre.<br /><br /><b>The space</b><br />Our apartment is located in the W14 district, and is an excellent base to explore London. Set in a leafy quiet residential street, you have numerous local restaurants and pubs a few minutes walk away. The area is also known as Brook Green. Within 10 minutes walk you can be exploring shopping districts like Westfield and High Street Kensington. The famous Portobello market and Notting Hill area are also a short walk or tube ride away. The property has two bedrooms with double beds overlooking gardens at the back; the bathroom has a shower and bath and plenty of storage; the lounge has beautiful period features, an open fire and  |\n",
            "|  2 | 13913 |     54730 | 2009-11-16   |                     3 | t                        |                                2 | Private room in rental unit | Private room    | f                  |                1 |               29 |                  41 |                0.26 | $79.00  |        nan |      1 | f                   | Islington                |                   4.8  |                     4.72 |                        4.72 |                    4.74 |                          4.82 |                     4.69 |                  4.69 | My bright double bedroom with a large window has a relaxed feeling! It comfortably fits one or two and is centrally located just two blocks from Finsbury Park. Enjoy great restaurants in the area and easy access to easy transport tubes, trains and buses. Babies and children of all ages are welcome.<br /><br /><b>The space</b><br />Hello Everyone,<br /><br />I'm offering my lovely double bedroom in Finsbury Park area (zone 2) for let in a shared apartment. <br />You will share the apartment with me and it is fully furnished with a self catering kitchen. Two people can easily sleep well as the room has a queen size bed. I also have a travel cot for a baby for guest with small children. <br /><br />I will require a deposit up front as a security gesture on both our parts and will be given back to you when you return the keys. <br /><br />I trust anyone who will be responding to this add would treat my home with care and respect . <br /><br />Best Wishes <br /><br />Alina<br /><br /><b>Gue |\n",
            "|  3 | 15400 |     60302 | 2009-12-05   |                     1 | t                        |                                1 | Entire rental unit          | Entire home/apt | f                  |                7 |               30 |                  94 |                0.56 | $150.00 |          1 |      1 | f                   | Kensington and Chelsea   |                   4.8  |                     4.85 |                        4.88 |                    4.88 |                          4.83 |                     4.93 |                  4.74 | Lots of windows and light.  St Luke's Gardens are at the end of the block, and the river not too far the other way. Ten minutes walk if you go slowly. Buses to everywhere round the corner and shops, restaurants, pubs, the cinema and once again Waitrose .<br /><br /><b>The space</b><br />Bright Chelsea Apartment <br /><br />This is a bright one bedroom ground floor apartment in an interesting listed building. There is one double bedroom and a living room/kitchen The apartment has a full bathroom and the kitchen is fully equipped. Two wardrobes are available exclusively for guests and bedside tables and two long drawers.<br /><br />This sunny convenient compact flat is just around the corner from the Waitrose supermarket and all sorts of shops, cinemas, restaurants and pubs.  This is a lovely part of London.<br /><br />There is a fun farmers market in the King's Road at the weekend. <br /><br />Buses to everywhere are just round the corner, and two underground stations are within ten min |\n",
            "|  4 | 93734 |    497514 | 2011-04-10   |                     1 | t                        |                                1 | Private room in condo       | Private room    | f                  |                4 |              365 |                 180 |                1.21 | $46.00  |        nan |      1 | t                   | Greenwich                |                   4.62 |                     4.7  |                        4.59 |                    4.63 |                          4.81 |                     4.64 |                  4.67 | <b>During your stay</b><br />I’m a professional photographer and am in and out of the house all the time. I’m only a phone call away if you need me.                                                                                                                                                                                                                                                                                                                                                                                                                                                                                                                                                                                                                                                                                                                                                                                                                                                                                     |\n",
            "|    |   listing_id |                 id | date       |   reviewer_id | reviewer_name   | comments                                                                                                                                                                                                                                                                                                     |\n",
            "|---:|-------------:|-------------------:|:-----------|--------------:|:----------------|:-------------------------------------------------------------------------------------------------------------------------------------------------------------------------------------------------------------------------------------------------------------------------------------------------------------|\n",
            "|  0 |        13913 | 597622110054753727 | 2022-04-04 |       2941217 | Kévin           | If the room is available, just take it !                                                                                                                                                                                                                                                                     |\n",
            "|  1 |        13913 | 628812668788849576 | 2022-05-17 |      32486646 | Saarah          | Alina's flat is lovely and quirky, with art all around which makes for a lovely atmosphere. <br/>It feels like a comfortable place to stay, with nice touches to personalise your stay.<br/>It was great to view the pieces of art where each one told a story :)<br/>Alina was a lovely and friendly person |\n",
            "|  2 |        13913 | 631032182017371215 | 2022-05-20 |     203803703 | Mallin          | This is the most cosy and beautifully-decorated flat, in a lovely area. Alina was warm and kind, and made me feel very welcome in London. I would highly recommend staying here if you have the chance!                                                                                                      |\n",
            "|  3 |        13913 | 632423370762131190 | 2022-05-22 |     172968198 | Ged             | Alina was very welcoming, friendly  and helpful.  Home from home, with everything you need during your stay in the area. Location ideal for visiting London.<br/>Finsbury Park tube a 15 minute walk and there are plenty of parks and cafes nearby.<br/>I would stay again.                                 |\n",
            "|  4 |        13913 | 646234379625287966 | 2022-06-10 |      27083732 | Robert          | An arty flat, clean and comfortable big room, welcoming and engaging host                                                                                                                                                                                                                                    |\n"
          ]
        }
      ]
    },
    {
      "cell_type": "code",
      "source": [
        "print(listings.head())"
      ],
      "metadata": {
        "id": "jX7nIecfHEJ7",
        "colab": {
          "base_uri": "https://localhost:8080/"
        },
        "outputId": "e57788ea-8545-4179-f195-45fb2e14a7c2"
      },
      "execution_count": null,
      "outputs": [
        {
          "output_type": "stream",
          "name": "stdout",
          "text": [
            "      id  host_id  host_since  host_listings_count host_identity_verified  \\\n",
            "0  92644   498201  2011-04-10                  1.0                      t   \n",
            "1  93015   499704  2011-04-11                  1.0                      t   \n",
            "2  13913    54730  2009-11-16                  3.0                      t   \n",
            "3  15400    60302  2009-12-05                  1.0                      t   \n",
            "4  93734   497514  2011-04-10                  1.0                      t   \n",
            "\n",
            "   calculated_host_listings_count                property_type  \\\n",
            "0                               1  Private room in rental unit   \n",
            "1                               1           Entire rental unit   \n",
            "2                               2  Private room in rental unit   \n",
            "3                               1           Entire rental unit   \n",
            "4                               1        Private room in condo   \n",
            "\n",
            "         room_type instant_bookable  minimum_nights  ...  host_is_superhost  \\\n",
            "0     Private room                t               2  ...                  f   \n",
            "1  Entire home/apt                f               5  ...                  f   \n",
            "2     Private room                f               1  ...                  f   \n",
            "3  Entire home/apt                f               7  ...                  f   \n",
            "4     Private room                f               4  ...                  t   \n",
            "\n",
            "   neighbourhood_cleansed  review_scores_rating review_scores_accuracy  \\\n",
            "0              Wandsworth                  4.57                   4.74   \n",
            "1  Hammersmith and Fulham                  4.82                   4.76   \n",
            "2               Islington                  4.80                   4.72   \n",
            "3  Kensington and Chelsea                  4.80                   4.85   \n",
            "4               Greenwich                  4.62                   4.70   \n",
            "\n",
            "   review_scores_cleanliness  review_scores_checkin  \\\n",
            "0                       4.86                   4.71   \n",
            "1                       4.62                   4.85   \n",
            "2                       4.72                   4.74   \n",
            "3                       4.88                   4.88   \n",
            "4                       4.59                   4.63   \n",
            "\n",
            "  review_scores_communication review_scores_location  review_scores_value  \\\n",
            "0                        4.67                   4.53                 4.68   \n",
            "1                        4.88                   4.85                 4.74   \n",
            "2                        4.82                   4.69                 4.69   \n",
            "3                        4.83                   4.93                 4.74   \n",
            "4                        4.81                   4.64                 4.67   \n",
            "\n",
            "                                         description  \n",
            "0  <b>The space</b><br />Hi everyone! I have 2 ro...  \n",
            "1  Gorgeous 2 bed ground floor apartment with per...  \n",
            "2  My bright double bedroom with a large window h...  \n",
            "3  Lots of windows and light.  St Luke's Gardens ...  \n",
            "4  <b>During your stay</b><br />I’m a professiona...  \n",
            "\n",
            "[5 rows x 26 columns]\n"
          ]
        }
      ]
    }
  ]
}